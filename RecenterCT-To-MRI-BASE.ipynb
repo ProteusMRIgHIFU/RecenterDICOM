{
 "cells": [
  {
   "cell_type": "markdown",
   "metadata": {
    "deletable": true,
    "editable": true
   },
   "source": [
    "# Notebook to recenter images of a DICOM dataset - CT scan version\n",
    "Use this notebook to navigate and select a location in the image to recenter a series of images. It loads an specific series and uses the notebook to select a location.\n",
    "\n",
    "This notebook shows an example how to process a CT dataset. Some tricks need to be done to be sure it can be loaded into the Sonalleve treatment planning. \n",
    "\n",
    "**Very important, make as many copies of this notebook for each transformation applied. Like that the notebook is also the documentation of the transformation applied. This will be extremely useful for future analysis or for people reviewing the process**\n",
    "\n",
    "** Also important. Operations are accumulative, meaning that you have to be careful of applying only once the desired translation/rotation.** If you need to start from scratch, simply re-execute from the cell with the code `A=SelectionMarkersUI(...`\n",
    "\n",
    "Do not forget to execute cells with \"shift-Enter\"\n"
   ]
  },
  {
   "cell_type": "code",
   "execution_count": 1,
   "metadata": {
    "deletable": true,
    "editable": true,
    "tags": []
   },
   "outputs": [],
   "source": [
    "%matplotlib nbagg"
   ]
  },
  {
   "cell_type": "code",
   "execution_count": 2,
   "metadata": {
    "collapsed": false,
    "deletable": true,
    "editable": true,
    "jupyter": {
     "outputs_hidden": false
    }
   },
   "outputs": [],
   "source": [
    "from __future__ import print_function\n",
    "from RecenterDicom import *\n",
    "import matplotlib.pyplot as plt"
   ]
  },
  {
   "cell_type": "markdown",
   "metadata": {
    "deletable": true,
    "editable": true
   },
   "source": [
    "## Select a directory that contains the DICOMDIR file of the exported dataset\n",
    "Assign the value to the  ``base_dir`` variable. The code will print a list of all the series. Be sure of having inspected the dataset before with Osirix or any other DICOM viewer so you have an idea already of which dataset to select"
   ]
  },
  {
   "cell_type": "code",
   "execution_count": 3,
   "metadata": {
    "collapsed": false,
    "deletable": true,
    "editable": true,
    "jupyter": {
     "outputs_hidden": false
    }
   },
   "outputs": [
    {
     "name": "stdout",
     "output_type": "stream",
     "text": [
      "    Study 443789705: 20140126: \n",
      "        Series 2101: WIP THRIVE NoContrast : MR: N/A:  (71 images)\n",
      "          1.3.46.670589.11.34046.5.0.9100.2014012616031692259\n",
      "        Series 2201: WIP THRIVE Contrast : MR: N/A:  (71 images)\n",
      "          1.3.46.670589.11.34046.5.0.9100.2014012616095400339\n",
      "        Series 2301: WIP THRIVE Contrast : MR: N/A:  (71 images)\n",
      "          1.3.46.670589.11.34046.5.0.9100.2014012616121403340\n",
      "        Series 0: ExamCard : MR: N/A:  (1 image)\n",
      "          1.3.46.670589.11.34046.5.0.10848.2014012612251214005\n"
     ]
    }
   ],
   "source": [
    "base_dir = '../RecenterData/'\n",
    "PrintDicomDirSeries(base_dir)"
   ]
  },
  {
   "cell_type": "markdown",
   "metadata": {
    "deletable": true,
    "editable": true
   },
   "source": [
    "## Select a CT scan series by their UID\n",
    "Just copy the text of the UID above of the series you want to process. This is the best way to be sure you are loading the correct dataset."
   ]
  },
  {
   "cell_type": "markdown",
   "metadata": {
    "deletable": true,
    "editable": true
   },
   "source": [
    "## Select a MRI scan series that will be used as template\n",
    "We'll use an existing MRI dataset to grab any MRI DICOM file as template to do the \"conversion\" trick (Ari Partanen deserves the credit for this idea).\n",
    "\n",
    "This function will return only the filenames in the list MRIfiles\n",
    "\n",
    "Alternative, you could use  a path  to any other MRI dicom file (as much it is single slice) such as:\n",
    "`PathToMRIFile = \"C:\\\\MyDicomFiles\\\\OneDataset\\\\A\\\\B\\\\C\\\\A3424.DCM\"` or whatever"
   ]
  },
  {
   "cell_type": "markdown",
   "metadata": {
    "deletable": true,
    "editable": true
   },
   "source": [
    "#### OPTIONAL: Apply a rotation\n",
    "Many datasets are not necessarily  showing a patient in the right orientation, especially for furhter analysis with the Sonalleve SW. If the dataset is required to be rotated, **DO IT BEFORE THE RECENTERING!!!!**.\n",
    "Uncomment and execute the code below if you need a rotation.\n",
    "\n",
    "For some datasets it rotates correctly, but for some other it rotates in one of other axis. Still need to figure out. But a little try and error for the moment will be still required to rotate the image as needed. Try a combination with axis either being 'RL', 'HF' or 'AP'"
   ]
  },
  {
   "cell_type": "code",
   "execution_count": 5,
   "metadata": {
    "collapsed": false,
    "deletable": true,
    "editable": true,
    "jupyter": {
     "outputs_hidden": false
    }
   },
   "outputs": [
    {
     "name": "stdout",
     "output_type": "stream",
     "text": [
      "        Series 2101: WIP THRIVE NoContrast : MR: 1.3.46.670589.11.34046.5.0.9100.2014012616031692259 (71 images)\n",
      "            Reading images...\n",
      "skipping file ../RecenterData/DICOM/XX_0071 since it does not contain image information \n",
      "        Series 2101: WIP THRIVE NoContrast : MR: 1.3.46.670589.11.34046.5.0.9100.2014012616031692259 (71 images)\n",
      "            Reading images...\n",
      "skipping file ../RecenterData/DICOM/XX_0071 since it does not contain image information \n"
     ]
    }
   ],
   "source": [
    "A=SelectionMarkersUI(base_dir,'1.3.46.670589.11.34046.5.0.9100.2014012616031692259')\n",
    "MRIfiles=ReadSpecificSeries(base_dir,'1.3.46.670589.11.34046.5.0.9100.2014012616031692259',bReturnOnlyFileNames=True)\n",
    "#uncomment this line to apply a rotation, pick the desired value\n",
    "A.Rotation(180,axis='HF')"
   ]
  },
  {
   "cell_type": "markdown",
   "metadata": {
    "deletable": true,
    "editable": true
   },
   "source": [
    "## Use the interactive tool to select the number of slice, and (x,y)-coordinates in pixel of the location you want to use as the place to recenter the dataset.\n",
    "By default the 3D visualization is off to help to select faster the location. Once the location is identified, activating the 3D visualization will help to confim its location in the MRI coordinate system. At this moment, the recenter hasn't yet been applied in the images. \n",
    "\n",
    "If already know the location of slice, x-coordinate and y-coordinate (which may the case when reprocessing), you can comment the call to `InteractiveSel()` and un-comment the `ShowData` function call where you specify the # slice and x- and y-coordinates directly. This may be handy to keep documented the changes."
   ]
  },
  {
   "cell_type": "code",
   "execution_count": 6,
   "metadata": {
    "collapsed": false,
    "deletable": true,
    "editable": true,
    "jupyter": {
     "outputs_hidden": false
    }
   },
   "outputs": [
    {
     "data": {
      "application/vnd.jupyter.widget-view+json": {
       "model_id": "827e821988444737a4a4340684110865",
       "version_major": 2,
       "version_minor": 0
      },
      "text/plain": [
       "interactive(children=(FloatSlider(value=0.5, continuous_update=False, description='TopContrast', max=1.0, min=…"
      ]
     },
     "metadata": {},
     "output_type": "display_data"
    }
   ],
   "source": [
    "A.InteractiveSel()\n",
    "\n"
   ]
  },
  {
   "cell_type": "markdown",
   "metadata": {
    "deletable": true,
    "editable": true
   },
   "source": [
    "##  \"Execute\" the offset to the dataset\n",
    "The selected location during the navigation is now applied with the code below"
   ]
  },
  {
   "cell_type": "code",
   "execution_count": 12,
   "metadata": {
    "collapsed": false,
    "deletable": true,
    "editable": true,
    "jupyter": {
     "outputs_hidden": false
    }
   },
   "outputs": [],
   "source": [
    "A.ApplyOffset()\n"
   ]
  },
  {
   "cell_type": "markdown",
   "metadata": {
    "deletable": true,
    "editable": true
   },
   "source": [
    "## \"Convert\" to MRI DICOM\n",
    "**Very important**, some CT scans have one or more extra slices at the beginning to show location of the scans. By example:\n",
    "\n",
    "<img src=\"./Capture.PNG\" width=\"300\" height=\"300\" />\n",
    "\n",
    "This image needs to be removed from the dataset. To accomplish this, set a value in the parameter **`SkipImages`** in the function `ConvertCTtoMRI`. In this example, we skip only the first image.\n",
    "\n",
    "You can also notice we just use the first entry of the `MRIfiles` (we just need one). You can replace this by your own path.\n",
    "\n",
    "### Important notes\n",
    "As usual when dealing with DICOM files, vendors love to do whatever they want with the standard and sometimes they do not provide all the metadata required to do the \"conversion\" trick. I have identified 3 fields that may be missing in the GE CT scans: ReconstructionDiameter, SpacingBetweenSlices and SlicePositon. So far, it seems easy to reconstruct them. If any other appears with another dataset, let me know.\n",
    "\n",
    "### Adjust of contrast\n",
    "The Sonalleve planning software have some limited control on the adjust of the contrast image. If the CT data is copied natively, a lot of image regions appears hyperintense and cut in intensity. It makes difficult to navigate them.\n",
    "\n",
    "The parameter `bAdjustContrastParam` activates the adjust of the contrast to make it more readable. It is not 100% as good as a real DICOM viewer but it helps a lot to make it more easy to visualize in the Sonalleve SW. The function `ConvertCTtoMRI` has the following extra parameters controlling the adjustment of contrast. Default values seem to produce reasonable results:\n",
    "* `lowhighin` (default [0,1]) is a two-value list that  indicates the normalized range of the datatype dynamic to preseve from the input image. [0,1] means that values from 0 to 2^16-1 will be kept. It must have a values from 0 to 1, and lowhighin[1]>lowhighin[0]\n",
    "*  `lowhighout` (default [0,1]) is a two-value list that   indicates the normalized range of the datatype dynamic to strecth the data. [0,1] means that the input range will be stretched in values ranging from 0 to *2^16-1. \n",
    "* `gamma`  (default 1.5) is the exponent coefficient used to adjust background luminosity. Values inferior to 1 increase the luminosity. **This seems to be the best parameter to play around**. Values larger than 1.5 seem to work nicely.\n",
    "\n",
    "**Very important** If using a `gamma` value greater than 1 the image may look \"*completely*\" dark on the Sonalleve. The opposite will happen with `gamma` less than 1 (a hyperintense image).  Just adjust the brightness in the Sonalleve and the figure will appear correctly. "
   ]
  },
  {
   "cell_type": "code",
   "execution_count": 13,
   "metadata": {
    "collapsed": false,
    "deletable": true,
    "editable": true,
    "jupyter": {
     "outputs_hidden": false
    },
    "run_control": {
     "breakpoint": false
    }
   },
   "outputs": [
    {
     "name": "stdout",
     "output_type": "stream",
     "text": [
      "Removing the first  1  images ... remember this process is destructive\n",
      "ReconstructionDiameter ( 0018,1100) no present in DICOMS, we'll reconstruct it using Rows, Columns and PixelSpacing\n",
      "Non squared FOV = 237.62 237.62  using larger of those...\n",
      "ReconstructionDiameter 237.62\n",
      "SpacingBetweenSlices (0018,0088) is not present in DICOMS, we'll reconstruct it using calculating euclidean distance from two ImagePositionPatient entries\n",
      "SpacingBetweenSlices 2.0\n"
     ]
    }
   ],
   "source": [
    "A.ConvertCTtoMRI(MRIfiles[0],SkipImages=1,bAdjustContrastParam=True,gamma=1.6)"
   ]
  },
  {
   "cell_type": "markdown",
   "metadata": {
    "deletable": true,
    "editable": true
   },
   "source": [
    "##  Export the data\n",
    "Specify a directory where to export the data. If the directory does not exist, it will be created. Be sure of avoiding directories with original data. Also, if you call again this step later, all images in the specified subdirectory will be overwritten.\n",
    "\n",
    "You can specify the flag 'bDeleteFilesFirst=True' to delete files in the target directory. This is useful if you are reusing the same directory over and over. If you end exporting a dataset with less images than a previous exports,it may cause problems in the Sonalleve."
   ]
  },
  {
   "cell_type": "code",
   "execution_count": 14,
   "metadata": {
    "collapsed": false,
    "deletable": true,
    "editable": true,
    "jupyter": {
     "outputs_hidden": false
    }
   },
   "outputs": [
    {
     "name": "stdout",
     "output_type": "stream",
     "text": [
      "Please confirm deleting files in C:\\Patient Data\\ExportedForSonnalleve [n]|y: y\n"
     ]
    }
   ],
   "source": [
    "A.ExportData('C:\\Patient Data\\ExportedForSonnalleve',bDeleteFilesFirst=True)\n"
   ]
  },
  {
   "cell_type": "markdown",
   "metadata": {
    "deletable": true,
    "editable": true
   },
   "source": [
    "##  Use the data\n",
    "The exported data is conformal with DICOM viewers and the Sonalleve software. For the Sonalleve, start an standalone operation, input a body temperature. \n",
    "\n",
    "Modify the code below to match your Sonalleve directory, the location of dcmtk and the directory where you exported the data. Just run it with shift-Enter as usual and the images should be imported in the Sonalleve. Be sure the last line is correct to put back the current working directory in the notebook."
   ]
  },
  {
   "cell_type": "markdown",
   "metadata": {
    "deletable": true,
    "editable": true
   },
   "source": [
    "```\n",
    "import os\n",
    "curdir=os.getcwd()\n",
    "%cd \"C:/Program Files (x86)/Philips Medical Systems/HIFU/3.2.740.2311\"\n",
    "%run ./Scripts/DICOM/PlanningImageImporter.py -d \"C:\\Patient Data\\ExportedForSonnalleve\" -t \"C:\\dcmtk-3.6.0-win32-i386\\bin\"\n",
    "# DO NOT FORGET TO PUT BACK YOUR CURRENT DIRECTORY\n",
    "%cd \"C:/Users/Charles/Desktop/ReCenterMRI\"\n",
    "```"
   ]
  },
  {
   "cell_type": "code",
   "execution_count": null,
   "metadata": {
    "collapsed": true,
    "deletable": true,
    "editable": true,
    "jupyter": {
     "outputs_hidden": true
    }
   },
   "outputs": [],
   "source": []
  }
 ],
 "metadata": {
  "anaconda-cloud": {},
  "hide_input": false,
  "kernelspec": {
   "display_name": "Python 3 (ipykernel)",
   "language": "python",
   "name": "python3"
  },
  "language_info": {
   "codemirror_mode": {
    "name": "ipython",
    "version": 3
   },
   "file_extension": ".py",
   "mimetype": "text/x-python",
   "name": "python",
   "nbconvert_exporter": "python",
   "pygments_lexer": "ipython3",
   "version": "3.9.12"
  }
 },
 "nbformat": 4,
 "nbformat_minor": 4
}
